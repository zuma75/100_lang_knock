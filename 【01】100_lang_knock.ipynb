{
 "cells": [
  {
   "cell_type": "code",
   "execution_count": 8,
   "metadata": {},
   "outputs": [
    {
     "name": "stdout",
     "output_type": "stream",
     "text": [
      "desserts\n",
      "desserts\n"
     ]
    }
   ],
   "source": [
    "#1-00\n",
    "#文字列を逆順で表示せよ\n",
    "input_str = \"stressed\"\n",
    "\n",
    "#解1\n",
    "#pythonの「スライス操作」\n",
    "a = input_str[::-1]\n",
    "print(a)\n",
    "\n",
    "\"\"\"\n",
    "pythonのスライス操作\n",
    "シーケンス(リスト、タプル、range、文字列)の中から任意の部分を取り出してコピーしてくれる\n",
    "\n",
    "seq[start:stop:step]\n",
    "\n",
    "start,stopは整数\n",
    "startからstopまで、step分飛ばしで要素をコピーする\n",
    "stepに負の数を指定すると、末尾から|step|分飛ばしで要素を取り出してくれる\n",
    "\n",
    "\"\"\"\n",
    "    \n",
    "#解2\n",
    "#文字列をlist関数で分解, reverse関数, 配列の結合\n",
    "str_list = list(input_str)\n",
    "str_list.reverse()\n",
    "ans = \"\".join(str_list)\n",
    "print(ans)"
   ]
  },
  {
   "cell_type": "code",
   "execution_count": 88,
   "metadata": {},
   "outputs": [
    {
     "name": "stdout",
     "output_type": "stream",
     "text": [
      "パトカー\n"
     ]
    }
   ],
   "source": [
    "#1-01\n",
    "#文字列の1,3,5,7文字目を取り出して連結しろ\n",
    "input_str= \"パタトクカシーー\"\n",
    "\n",
    "a = input_str[::2]\n",
    "print(a)"
   ]
  },
  {
   "cell_type": "code",
   "execution_count": 7,
   "metadata": {},
   "outputs": [
    {
     "name": "stdout",
     "output_type": "stream",
     "text": [
      "パタトクカシーー\n",
      "パタトクカシーー\n"
     ]
    }
   ],
   "source": [
    "#1-02\n",
    "#パトカーとタクシーを交互に連結してパタトクカシーーにしろ\n",
    "pat = \"パトカー\"\n",
    "taxi = \"タクシー\"\n",
    "\n",
    "#解法1\n",
    "\"\"\"\n",
    "文字列を配列にして順番にぶち込んでいく\n",
    "\"\"\"\n",
    "pat_list = list(pat)\n",
    "taxi_list = list(taxi)\n",
    "length = len(pat_list)\n",
    "answer_list = []\n",
    "\n",
    "\n",
    "for i in range(length):\n",
    "    answer_list.append(pat_list[i])\n",
    "    answer_list.append(taxi_list[i])\n",
    "\n",
    "print(''.join(answer_list))\n",
    "\n",
    "#解法2\n",
    "'''\n",
    "空の文字列に文字を追加していく\n",
    "'''\n",
    "str3 = ''\n",
    "\n",
    "zip_list = zip(pat_list, taxi_list)\n",
    "for a, b in zip_list:\n",
    "    str3 = str3 + a + b\n",
    "\n",
    "print(str3)"
   ]
  },
  {
   "cell_type": "code",
   "execution_count": 52,
   "metadata": {},
   "outputs": [
    {
     "name": "stdout",
     "output_type": "stream",
     "text": [
      "[3, 1, 4, 1, 5, 9, 2, 6, 5, 3, 5, 8, 9, 7, 9]\n"
     ]
    }
   ],
   "source": [
    "#1-03\n",
    "#文中に含まれる単語の文字数を並べたリストを作れ\n",
    "\n",
    "s = \"Now I need a drink, alcoholic of course, after the heavy lectures involving quantum mechanics.\"\n",
    "s_processed = s.translate(str.maketrans({\",\":\"\", \".\":\"\"}))\n",
    "words = s_processed.split()\n",
    "nums = []\n",
    "\n",
    "for w in words:\n",
    "    nums.append(len(w))\n",
    "\n",
    "print(nums)\n",
    "\n",
    "\"\"\"\n",
    "複数の文字を置換する場合はtranslate関数\n",
    "置換する文字のマップはstr.maketransで指定\n",
    "\"\"\""
   ]
  },
  {
   "cell_type": "code",
   "execution_count": 67,
   "metadata": {},
   "outputs": [
    {
     "name": "stdout",
     "output_type": "stream",
     "text": [
      "[{'H': 1}, {'He': 2}, {'Li': 3}, {'Be': 4}, {'B': 5}, {'C': 6}, {'N': 7}, {'O': 8}, {'F': 9}, {'Ne': 10}, {'Na': 11}, {'Mi': 12}, {'Al': 13}, {'Si': 14}, {'P': 15}, {'S': 16}, {'Cl': 17}, {'Ar': 18}, {'K': 19}, {'Ca': 20}]\n"
     ]
    }
   ],
   "source": [
    "#1-04\n",
    "#1, 5, 6, 7, 8, 9, 15, 16, 19番目の単語は先頭の1文字，それ以外の単語は先頭の2文字を取り出し，\n",
    "#取り出した文字列から単語の位置（先頭から何番目の単語か）への連想配列（辞書型もしくはマップ型）を作成せよ．\n",
    "\n",
    "s = \"Hi He Lied Because Boron Could Not Oxidize Fluorine. New Nations Might Also Sign Peace Security Clause. Arthur King Can.\"\n",
    "s_processed = s.translate(str.maketrans({\",\":\"\", \".\":\"\"}))\n",
    "words = s_processed.split()\n",
    "\n",
    "chr_list = []\n",
    "get_list = [1, 5, 6, 7, 8, 9, 15, 16, 19]\n",
    "\n",
    "for n in range(len(words)):\n",
    "    w = words[n]\n",
    "    if n+1 in get_list:\n",
    "        head_chr = {w[0:1]: n+1} \n",
    "        chr_list.append(head_chr)\n",
    "    else:\n",
    "        head_chr = {w[0:2]: n+1}\n",
    "        chr_list.append(head_chr)\n",
    "    \n",
    "print(chr_list)"
   ]
  },
  {
   "cell_type": "code",
   "execution_count": 80,
   "metadata": {},
   "outputs": [
    {
     "name": "stdout",
     "output_type": "stream",
     "text": [
      "['I ', ' a', 'am', 'm ', ' a', 'an', 'n ', ' N', 'NL', 'LP', 'Pe', 'er']\n"
     ]
    }
   ],
   "source": [
    "#1-05\n",
    "#与えられたシーケンス（文字列やリストなど）からn-gramを作る関数を作成せよ\n",
    "'''\n",
    "n-gram : 任意の文字列をn個の文字で分割したもの\n",
    "n=1ならunigram, n=2ならbigram, n=3ならtrigram\n",
    "'''\n",
    "def ngram(seq, n):\n",
    "    end = n\n",
    "    li = []\n",
    "    \n",
    "    #1文字ずつずらしながらスライス\n",
    "    for i in range(len(seq) - n + 1):\n",
    "        gram = seq[i:end]\n",
    "        li.append(gram)\n",
    "        \n",
    "        end = end + 1\n",
    "        \n",
    "    return li\n",
    "\n",
    "target = \"I am an NLPer\"\n",
    "words = target.split()\n",
    "print(ngram(target, 2))"
   ]
  },
  {
   "cell_type": "code",
   "execution_count": 66,
   "metadata": {},
   "outputs": [
    {
     "name": "stdout",
     "output_type": "stream",
     "text": [
      "['ar', 'ap', 'ar', 'ap', 'ar', 'ad', 'di', 'is', 'se', 'ar', 'ag', 'gr', 'ap', 'ph']\n"
     ]
    }
   ],
   "source": [
    "#1-06\n",
    "#\"paraparaparadise\"と\"paragraph\"に含まれる文字bi-gramの集合を，それぞれ, XとYとして求め\n",
    "#XとYの和集合，積集合，差集合を求めよ．さらに，'se'というbi-gramがXおよびYに含まれるかどうかを調べよ．\n",
    "\n",
    "def ngram(seq, n):\n",
    "    kugiri = 0\n",
    "    owari = n\n",
    "    li = []\n",
    "    \n",
    "    #1文字ずつずらしながらスライス\n",
    "    for i in range(len(seq) - n + 1):\n",
    "        gram = seq[kugiri:owari]\n",
    "        li.append(gram)\n",
    "        \n",
    "        owari = owari + 1\n",
    "        \n",
    "    return li\n",
    "\n",
    "X = ngram(\"paraparaparadise\", 2)\n",
    "Y = ngram(\"paragraph\", 2)\n",
    "\n",
    "wa = X + Y\n",
    "\n",
    "seki = []\n",
    "for w in X:\n",
    "    if w in Y and not w in seki:\n",
    "        seki.append(w)\n",
    "\n",
    "sa = wa\n",
    "for char in wa:\n",
    "    if char in seki:\n",
    "        sa.remove(char)\n",
    "\n",
    "print(sa)"
   ]
  },
  {
   "cell_type": "code",
   "execution_count": 3,
   "metadata": {},
   "outputs": [
    {
     "name": "stdout",
     "output_type": "stream",
     "text": [
      "12時の気温は22.4\n"
     ]
    }
   ],
   "source": [
    "#1-07\n",
    "#引数x, y, zを受け取り「x時のyはz」という文字列を返す関数を実装せよ．さらに，x=12, y=\"気温\", z=22.4として，実行結果を確認せよ．\n",
    "\n",
    "def sentence(x, y, z):\n",
    "    #return str(x) + \"時の\" + y + \"は\" + str(z)\n",
    "    return \"{0}時の{1}は{2}\".format(x, y, z)\n",
    "\n",
    "print(sentence(12, \"気温\", 22.4))"
   ]
  },
  {
   "cell_type": "code",
   "execution_count": 77,
   "metadata": {},
   "outputs": [
    {
     "name": "stdout",
     "output_type": "stream",
     "text": [
      "HxhmfMBJtT\n"
     ]
    }
   ],
   "source": [
    "#1-08\n",
    "\"\"\"\n",
    "与えられた文字列の各文字を，以下の仕様で変換する関数cipherを実装せよ．\n",
    "\n",
    "英小文字ならば(219 - 文字コード)の文字に置換\n",
    "その他の文字はそのまま出力\n",
    "この関数を用い，英語のメッセージを暗号化・復号化せよ．\n",
    "\n",
    "\"\"\"\n",
    "\n",
    "def cipher(sentence):\n",
    "    chars = []\n",
    "    for i in range(len(sentence)):\n",
    "        char = sentence[i:i+1]\n",
    "        if str.islower(char):\n",
    "            char = chr(219 - ord(char))\n",
    "            chars.append(char)\n",
    "        else:\n",
    "            chars.append(char)\n",
    "    \n",
    "    return ''.join(chars)\n",
    "\n",
    "print(cipher(\"HcsnuMBJgT\"))"
   ]
  },
  {
   "cell_type": "code",
   "execution_count": 6,
   "metadata": {},
   "outputs": [
    {
     "data": {
      "text/plain": [
       "\"I cnuod'lt beevile that I cuold allcauty uedtrsnnad what I was rdienag : the pnaomhenel pewor of the huamn mind .\""
      ]
     },
     "execution_count": 6,
     "metadata": {},
     "output_type": "execute_result"
    }
   ],
   "source": [
    "#1-09\n",
    "#スペースで区切られた単語列に対して，各単語の先頭と末尾の文字は残し，\n",
    "#それ以外の文字の順序をランダムに並び替えるプログラムを作成せよ．ただし，長さが４以下の単語は並び替えないこととする．\n",
    "\n",
    "import random\n",
    "\n",
    "def cambridge(sentence):\n",
    "    result = []\n",
    "    words = sentence.split()\n",
    "    for w in words:\n",
    "        if len(w) <= 4:\n",
    "            result.append(w)\n",
    "        elif len(w) > 4:\n",
    "            head = w[:1]\n",
    "            tail = w[-1:]\n",
    "            \n",
    "            chars = list(w)\n",
    "            del chars[len(chars)-1]\n",
    "            del chars[0]\n",
    "            random.shuffle(chars)\n",
    "            chars.insert(0, head)\n",
    "            chars.append(tail)\n",
    "            \n",
    "            ans = ''.join(chars)\n",
    "            result.append(ans)\n",
    "            \n",
    "    return ' '.join(result)\n",
    "\n",
    "cambridge(\"I couldn't believe that I could actually understand what I was reading : the phenomenal power of the human mind .\")"
   ]
  },
  {
   "cell_type": "code",
   "execution_count": null,
   "metadata": {},
   "outputs": [],
   "source": []
  }
 ],
 "metadata": {
  "kernelspec": {
   "display_name": "Python 3",
   "language": "python",
   "name": "python3"
  },
  "language_info": {
   "codemirror_mode": {
    "name": "ipython",
    "version": 3
   },
   "file_extension": ".py",
   "mimetype": "text/x-python",
   "name": "python",
   "nbconvert_exporter": "python",
   "pygments_lexer": "ipython3",
   "version": "3.8.0"
  }
 },
 "nbformat": 4,
 "nbformat_minor": 2
}
