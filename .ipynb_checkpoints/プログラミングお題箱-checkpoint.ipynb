{
 "cells": [
  {
   "cell_type": "code",
   "execution_count": null,
   "metadata": {},
   "outputs": [],
   "source": [
    "'''\n",
    "二つのリスト（左・右）の内容を比較し、片方にしかないものと両方に在るものを出力するプログラムを書いて下さい。\n",
    "\n",
    "条件\n",
    "・リストの入力方法、出力方法は自由とします。\n",
    "・入力されるリストの内容は未ソートかつ重複がある可能性を考慮して下さい。\n",
    "・出力されるリストは、左のリストにのみある内容、右のリストにのみある内容、両方のリストにある内容の三種類とします。\n",
    "・出力されるリストは辞書順ソートかつ重複は除去した形式として下さい。\n",
    "\n",
    "サンプル入力リスト：\n",
    "[listL] aaa bbb ccc bbb eee hhhh\n",
    "[listR] bbb ddd eee fff ggg iiiii\n",
    "'''\n",
    "\n"
   ]
  }
 ],
 "metadata": {
  "kernelspec": {
   "display_name": "Python 3",
   "language": "python",
   "name": "python3"
  },
  "language_info": {
   "codemirror_mode": {
    "name": "ipython",
    "version": 3
   },
   "file_extension": ".py",
   "mimetype": "text/x-python",
   "name": "python",
   "nbconvert_exporter": "python",
   "pygments_lexer": "ipython3",
   "version": "3.8.0"
  }
 },
 "nbformat": 4,
 "nbformat_minor": 2
}
